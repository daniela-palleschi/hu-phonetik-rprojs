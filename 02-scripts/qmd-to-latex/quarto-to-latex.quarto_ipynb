{
  "cells": [
    {
      "cell_type": "markdown",
      "metadata": {},
      "source": [
        "---\n",
        "title: \"Quarto to LaTeX\"\n",
        "author: \"Daniela Palleschi\"\n",
        "date: \"09/25/2024\"\n",
        "date-format: \"ddd. MMM D, YYYY\"\n",
        "format: \n",
        "  pdf:\n",
        "    keep-tex: true\n",
        "---\n",
        "\n",
        "\n",
        "# `keep-tex: true`\n",
        "\n",
        "In your YAML, use `keep-tex: true` as a setting for `pdf:`. N.B., in R markdown, the syntax is `keep_tex: true` (underscore instead of hyphen).\n",
        "\n",
        "\n",
        "```{markdown}\n",
        "---\n",
        "title: \"Session Info\"\n",
        "format: \n",
        "  html: default\n",
        "  pdf:\n",
        "    keep-tex: true # this is what you need\n",
        "---\n",
        "```\n",
        "\n",
        "\n",
        "Then when you render a PDF, a `.tex` file will appear in the same folder as your script. You can simply upload this file to Overleaf (or read it in wherever else you write your LaTeX papers) or copy-and-paste the tex code. If the document also produces/prints figures, you can also just upload/copy-and-paste the folder that ends in `_files` to wherever your LaTeX document is rendered.\n"
      ],
      "id": "f12bab45"
    }
  ],
  "metadata": {
    "kernelspec": {
      "display_name": "Python 3",
      "language": "python",
      "name": "python3"
    }
  },
  "nbformat": 4,
  "nbformat_minor": 5
}